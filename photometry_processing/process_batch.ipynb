{
 "cells": [
  {
   "cell_type": "code",
   "execution_count": 1,
   "id": "0",
   "metadata": {},
   "outputs": [],
   "source": [
    "import os\n",
    "import matplotlib.pyplot as plt\n",
    "import numpy as np\n",
    "from preprocess_functions import preprocess"
   ]
  },
  {
   "cell_type": "markdown",
   "id": "1",
   "metadata": {},
   "source": [
    "## Set up paths and params, then load data and fill object\n",
    "path is the root_data path as defined in https://github.com/ikharitonov/vestibular_vr_pipeline/issues/25)\n",
    "\n",
    "Select sensors if sensor-specific (and not \"auto\") filtering is used. 'G8m', 'g5-HT3', 'rG1' or available sensors in the function, otherwise asks for user input for half decay time in ms.\n",
    "\n",
    "Target area is the intended area, not verified by histology yet. Added to self.info dictionary.  "
   ]
  },
  {
   "cell_type": "code",
   "execution_count": 14,
   "id": "2",
   "metadata": {},
   "outputs": [
    {
     "name": "stdout",
     "output_type": "stream",
     "text": [
      "/home/ikharitonov/RANCZLAB-NAS/data/ONIX/20250409_Cohort3_rotation/Visual_mismatch_day3/B6J2781-2025-04-25T12-30-52\n",
      "/home/ikharitonov/RANCZLAB-NAS/data/ONIX/20250409_Cohort3_rotation/Visual_mismatch_day3/B6J2780-2025-04-25T11-51-53\n",
      "/home/ikharitonov/RANCZLAB-NAS/data/ONIX/20250409_Cohort3_rotation/Visual_mismatch_day3/B6J2782-2025-04-25T13-06-49\n",
      "/home/ikharitonov/RANCZLAB-NAS/data/ONIX/20250409_Cohort3_rotation/Visual_mismatch_day3/B6J2783-2025-04-25T13-41-53\n"
     ]
    }
   ],
   "source": [
    "paths = []\n",
    "#rootdir = '/Users/rancze/Documents/Data/vestVR/Cohort2_test_Photometry_only'\n",
    "rootdir = os.path.expanduser('~/RANCZLAB-NAS/data/ONIX/20250409_Cohort3_rotation/Visual_mismatch_day3')\n",
    "sensors = {'470':'g5-HT3', '560':'rG1', '410':'isosbestic'}\n",
    "plot_info = (' ') # can add addition info here for figure title, e.g. retro inj in SC\n",
    "target_area = ('X') #ASSUMES the same target area for all folders, DANGER\n",
    "filtering_method = 'auto' # auto (nyquist, recommended) or sensor \n",
    "detrend_method = 'divisive' #subtractive or divisive (recommended)\n",
    "motion_correction = False # we never really use it\n",
    "iso_channel = 410 # channel to be used for isosbestic control\n",
    "signal_channel = 470 # channel to motion correct with isosbestic \n",
    "\n",
    "for root, dirs, files in os.walk(rootdir):\n",
    "    for filename in files:\n",
    "        if filename == 'Fluorescence-unaligned.csv':\n",
    "            # Get the folder one level higher\n",
    "            parent_folder = os.path.dirname(root)\n",
    "            paths.append(parent_folder)\n",
    "\n",
    "# Print all the paths\n",
    "for path in paths:\n",
    "    print(path)"
   ]
  },
  {
   "cell_type": "code",
   "execution_count": 15,
   "id": "3",
   "metadata": {},
   "outputs": [
    {
     "name": "stdout",
     "output_type": "stream",
     "text": [
      "\n",
      "\u001b[1mPreprocessing data for B6J2781 in session 2025-04-25T12-30-52...\u001b[0m\n",
      "\n",
      "Filtering 470 with method auto at 8.0 Hz\n",
      "Filtering 560 with method auto at 8.0 Hz\n",
      "Filtering 410 with method auto at 8.0 Hz\n",
      "Detrending filtered_470 with params: [149, 2.95, 9.34, 597, 0.0148]\n",
      "Detrending filtered_560 with params: [122, 3.33, 9.51, 1.08e+03, 0.0982]\n",
      "Detrending filtered_410 with params: [22.6, 0.602, 3.19, 427, 0.0227]\n",
      "Motion correction NOT applied, plot (if present) for information only.\n",
      "dF/F: Only doing motion correction if needed, as divisive detrending already resulted in deltaF/F\n",
      "z-scoring non-motion corrected data\n",
      "Peak cross-correlation value: 5932.41 at lag: 0.00s\n",
      "Info.csv saved\n",
      "Processed_fluorescence.csv saved\n",
      "Original Events.csv saved to Events.csv to be used for ONIX alingment\n"
     ]
    },
    {
     "name": "stderr",
     "output_type": "stream",
     "text": [
      "/home/ikharitonov/Documents/GitHub/vestibula_vr_pipeline_ranczlab/vestibular_vr_pipeline/photometry_processing/preprocess_functions.py:874: UserWarning: This figure includes Axes that are not compatible with tight_layout, so results might be incorrect.\n",
      "  plt.tight_layout()\n"
     ]
    },
    {
     "name": "stdout",
     "output_type": "stream",
     "text": [
      "Done processing for this session\n",
      "\n",
      "\u001b[1mPreprocessing data for B6J2780 in session 2025-04-25T11-51-53...\u001b[0m\n",
      "\n",
      "Filtering 470 with method auto at 8.0 Hz\n",
      "Filtering 560 with method auto at 8.0 Hz\n",
      "Filtering 410 with method auto at 8.0 Hz\n",
      "Detrending filtered_470 with params: [163, 4.74, 11.4, 675, 0.00491]\n",
      "Detrending filtered_560 with params: [123, 1.36, 8.24, 949, 0.0538]\n",
      "Detrending filtered_410 with params: [26.2, 1.1, 4.57, 548, 1]\n",
      "Motion correction NOT applied, plot (if present) for information only.\n",
      "dF/F: Only doing motion correction if needed, as divisive detrending already resulted in deltaF/F\n",
      "z-scoring non-motion corrected data\n",
      "Peak cross-correlation value: 9775.85 at lag: 4.98s\n",
      "Info.csv saved\n",
      "Processed_fluorescence.csv saved\n",
      "Original Events.csv saved to Events.csv to be used for ONIX alingment\n"
     ]
    },
    {
     "name": "stderr",
     "output_type": "stream",
     "text": [
      "/home/ikharitonov/Documents/GitHub/vestibula_vr_pipeline_ranczlab/vestibular_vr_pipeline/photometry_processing/preprocess_functions.py:874: UserWarning: This figure includes Axes that are not compatible with tight_layout, so results might be incorrect.\n",
      "  plt.tight_layout()\n"
     ]
    },
    {
     "name": "stdout",
     "output_type": "stream",
     "text": [
      "Done processing for this session\n",
      "\n",
      "\u001b[1mPreprocessing data for B6J2782 in session 2025-04-25T13-06-49...\u001b[0m\n",
      "\n",
      "Filtering 470 with method auto at 8.0 Hz\n",
      "Filtering 560 with method auto at 8.0 Hz\n",
      "Filtering 410 with method auto at 8.0 Hz\n",
      "Detrending filtered_470 with params: [85.3, 7.17, 3.26, 312, 1]\n",
      "Detrending filtered_560 with params: [119, 3.54e-06, 4.35, 98.3, 0.998]\n",
      "Detrending filtered_410 with params: [13, 0.331, 1.66, 246, 0.00823]\n",
      "Motion correction NOT applied, plot (if present) for information only.\n",
      "dF/F: Only doing motion correction if needed, as divisive detrending already resulted in deltaF/F\n",
      "z-scoring non-motion corrected data\n",
      "Peak cross-correlation value: 9793.11 at lag: 4.98s\n",
      "Info.csv saved\n",
      "Processed_fluorescence.csv saved\n",
      "Original Events.csv saved to Events.csv to be used for ONIX alingment\n"
     ]
    },
    {
     "name": "stderr",
     "output_type": "stream",
     "text": [
      "/home/ikharitonov/Documents/GitHub/vestibula_vr_pipeline_ranczlab/vestibular_vr_pipeline/photometry_processing/preprocess_functions.py:874: UserWarning: This figure includes Axes that are not compatible with tight_layout, so results might be incorrect.\n",
      "  plt.tight_layout()\n"
     ]
    },
    {
     "name": "stdout",
     "output_type": "stream",
     "text": [
      "Done processing for this session\n",
      "\n",
      "\u001b[1mPreprocessing data for B6J2783 in session 2025-04-25T13-41-53...\u001b[0m\n",
      "\n",
      "Filtering 470 with method auto at 8.0 Hz\n",
      "Filtering 560 with method auto at 8.0 Hz\n",
      "Filtering 410 with method auto at 8.0 Hz\n",
      "Detrending filtered_470 with params: [84.4, 5.79, 12.5, 1.45e+03, 0.0438]\n",
      "Detrending filtered_560 with params: [124, 3.44, 6.63, 1.32e+03, 0.0538]\n",
      "Detrending filtered_410 with params: [14.6, 1.03, 2.06, 1.21e+03, 0.0756]\n",
      "Motion correction NOT applied, plot (if present) for information only.\n",
      "dF/F: Only doing motion correction if needed, as divisive detrending already resulted in deltaF/F\n",
      "z-scoring non-motion corrected data\n",
      "Peak cross-correlation value: 17253.96 at lag: -0.06s\n",
      "Info.csv saved\n",
      "Processed_fluorescence.csv saved\n",
      "Original Events.csv saved to Events.csv to be used for ONIX alingment\n"
     ]
    },
    {
     "name": "stderr",
     "output_type": "stream",
     "text": [
      "/home/ikharitonov/Documents/GitHub/vestibula_vr_pipeline_ranczlab/vestibular_vr_pipeline/photometry_processing/preprocess_functions.py:874: UserWarning: This figure includes Axes that are not compatible with tight_layout, so results might be incorrect.\n",
      "  plt.tight_layout()\n"
     ]
    },
    {
     "name": "stdout",
     "output_type": "stream",
     "text": [
      "Done processing for this session\n",
      "CPU times: user 1min 15s, sys: 3min 55s, total: 5min 10s\n",
      "Wall time: 23 s\n"
     ]
    }
   ],
   "source": [
    "%%time\n",
    "for path in paths: \n",
    "    processed = preprocess(path, sensors)\n",
    "    processed.info = processed.get_info()\n",
    "    (\n",
    "        processed.rawdata, \n",
    "        processed.data, \n",
    "        processed.data_seconds, \n",
    "        processed.signals, \n",
    "    ) = processed.create_basic(\n",
    "        cutstart = False,\n",
    "        cutend = False,\n",
    "        target_area = target_area,\n",
    "        motion = motion_correction\n",
    "    )\n",
    "    #processed.events = processed.extract_events()\n",
    "    processed.filtered = processed.low_pass_filt(method = filtering_method)\n",
    "    processed.detrended, processed.exp_fits = processed.detrend(method = detrend_method)\n",
    "    processed.motion_corrected = processed.motion_correct(iso_ch = iso_channel, signal_ch = signal_channel)\n",
    "    processed.deltaF_F = processed.get_deltaF_F()\n",
    "    processed.zscored = processed.z_score()\n",
    "    _ = processed.cross_correlate_signals(col1='470', col2='560', plot=False)\n",
    "    processed.info_csv = processed.write_info_csv()\n",
    "    processed.data_csv = processed.write_preprocessed_csv()\n",
    "    processed.plot_all_signals(sensors, plot_info)\n",
    "    print (\"Done processing for this session\")"
   ]
  }
 ],
 "metadata": {
  "kernelspec": {
   "display_name": "aeon2",
   "language": "python",
   "name": "python3"
  },
  "language_info": {
   "codemirror_mode": {
    "name": "ipython",
    "version": 3
   },
   "file_extension": ".py",
   "mimetype": "text/x-python",
   "name": "python",
   "nbconvert_exporter": "python",
   "pygments_lexer": "ipython3",
   "version": "3.11.11"
  }
 },
 "nbformat": 4,
 "nbformat_minor": 5
}
