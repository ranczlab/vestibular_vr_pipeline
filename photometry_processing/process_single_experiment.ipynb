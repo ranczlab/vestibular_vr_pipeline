{
 "cells": [
  {
   "cell_type": "code",
   "execution_count": null,
   "id": "0",
   "metadata": {},
   "outputs": [],
   "source": [
    "import os\n",
    "import matplotlib.pyplot as plt\n",
    "import numpy as np\n",
    "from preprocess_functions import preprocess #preprocess is a class containing all the function"
   ]
  },
  {
   "cell_type": "markdown",
   "id": "1",
   "metadata": {},
   "source": [
    "## Set up paths and params, then load data and fill object\n",
    "path is the root_data path as defined in https://github.com/ikharitonov/vestibular_vr_pipeline/issues/25)\n",
    "\n",
    "Select sensors if sensor-specific (and not \"auto\") filtering is used. 'G8m', 'g5-HT3', 'rG1' or available sensors in the function, otherwise asks for user input for half decay time in ms.\n",
    "\n",
    "Target area is the intended area, not verified by histology yet. Added to self.info dictionary.  "
   ]
  },
  {
   "cell_type": "code",
   "execution_count": null,
   "id": "2",
   "metadata": {},
   "outputs": [],
   "source": [
    "path = '/Users/rancze/Documents/Data/vestVR/Cohort2_test/2025-02-13T12-41-57'\n",
    "sensors = {'470':'g5-HT3', '560':'rG1', '410':'isosbestic'}\n",
    "plot_info = (' ') # can add addition info here for figure title, e.g. retro inj in SC\n",
    "target_area = ('X') #ASSUMES the same target area for all folders, DANGER\n",
    "filtering_method = 'auto' # auto (nyquist, recommended) or sensor \n",
    "detrend_method = 'divisive' #subtractive or divisive (recommended)\n",
    "motion_correction = False # we never really use it\n",
    "iso_channel = 410 # channel to be used for isosbestic control\n",
    "signal_channel = 470 # channel to motion correct with isosbestic "
   ]
  },
  {
   "cell_type": "code",
   "execution_count": null,
   "id": "3",
   "metadata": {},
   "outputs": [],
   "source": [
    "#Create an object which will contain an increasing amount of information as functions are called on\n",
    "processed = preprocess(path, sensors)\n",
    "# extract all relevant and irrelevant info from the Fluorescence.csv file which contains the metadata \n",
    "processed.info = processed.get_info()"
   ]
  },
  {
   "cell_type": "code",
   "execution_count": null,
   "id": "4",
   "metadata": {},
   "outputs": [],
   "source": [
    "#Loads Events.csv and Fluorescence-unaligned.csv\n",
    "#Aligns to 470 nm timestamps (assumes 470 exists) and cuts data if needed (almost never)\n",
    "#Returns processed dataframes below\n",
    "(\n",
    "    processed.rawdata, \n",
    "    processed.data, \n",
    "    processed.data_seconds, \n",
    "    processed.signals, \n",
    ") = processed.create_basic(\n",
    "    cutstart = False,\n",
    "    cutend = False,\n",
    "    target_area = target_area, \n",
    "    motion = motion_correction\n",
    ")\n",
    "print (\"Done\")"
   ]
  },
  {
   "cell_type": "markdown",
   "id": "5",
   "metadata": {},
   "source": [
    "### Filtering\n",
    "All the sigals are low pass filtered using a butterworth filter.  \n",
    "method = \"auto\" cutoff frequncy ~sample_rate/2 Hz  \n",
    "method = \"sensor\" cutoff frequency is determined in the function using the sensors dictionary  "
   ]
  },
  {
   "cell_type": "code",
   "execution_count": null,
   "id": "6",
   "metadata": {},
   "outputs": [],
   "source": [
    "processed.filtered = processed.low_pass_filt(method = filtering_method, plot=True)"
   ]
  },
  {
   "cell_type": "markdown",
   "id": "7",
   "metadata": {},
   "source": [
    "### Detrending\n",
    "A double exponential fit is made to account for sources of bleaching and the signal is corrected.  \n",
    "method = \"subtractive\" assumes bleaching is sensor-independent (e.g. autofluorescence)  \n",
    "method = \"divisive\" assumes bleaching comes from the sensor. This is most plausible.   \n",
    "**N.B.** divisive detrended data is already dF/F. "
   ]
  },
  {
   "cell_type": "code",
   "execution_count": null,
   "id": "8",
   "metadata": {},
   "outputs": [],
   "source": [
    "processed.detrended, processed.exp_fits = processed.detrend(plot = True, method = detrend_method)"
   ]
  },
  {
   "cell_type": "markdown",
   "id": "9",
   "metadata": {},
   "source": [
    "### Motion correction\n",
    "iso_channel = channel to be used for isosbestic control\n",
    "\n",
    "signal_channel = channel to motion correct with isosbestic "
   ]
  },
  {
   "cell_type": "code",
   "execution_count": null,
   "id": "10",
   "metadata": {},
   "outputs": [],
   "source": [
    "processed.motion_corrected = processed.motion_correct(plot = True, iso_ch = iso_channel, signal_ch = signal_channel)"
   ]
  },
  {
   "cell_type": "markdown",
   "id": "11",
   "metadata": {},
   "source": [
    "### Delta F / F\n",
    "This is a standard way of calculating the detla F over F signal based on the fiber photometry primer paper code: https://github.com/ThomasAkam/photometry_preprocessing/blob/master/Photometry%20data%20preprocessing.ipynb\n",
    "With divisive detrending, this has already been calculated and the code treats it accordingly. "
   ]
  },
  {
   "cell_type": "code",
   "execution_count": null,
   "id": "12",
   "metadata": {},
   "outputs": [],
   "source": [
    "processed.deltaF_F = processed.get_deltaF_F(plot = True)"
   ]
  },
  {
   "cell_type": "markdown",
   "id": "13",
   "metadata": {},
   "source": [
    "### Z-scoring\n",
    "Standard Z-scoring of the dF/F"
   ]
  },
  {
   "cell_type": "code",
   "execution_count": null,
   "id": "14",
   "metadata": {},
   "outputs": [],
   "source": [
    "processed.zscored = processed.z_score(plot = True)"
   ]
  },
  {
   "cell_type": "code",
   "execution_count": null,
   "id": "15",
   "metadata": {},
   "outputs": [],
   "source": [
    "processed.cross_correlate_signals(col1='470', col2='560', plot=True)"
   ]
  },
  {
   "cell_type": "markdown",
   "id": "16",
   "metadata": {},
   "source": [
    "### Save info, processed fluorescence and original events as a .csv files"
   ]
  },
  {
   "cell_type": "code",
   "execution_count": null,
   "id": "17",
   "metadata": {},
   "outputs": [],
   "source": [
    "#again it ensures that the folder to save in already exists, since the csv must have somewhere to be\n",
    "processed.info_csv = processed.write_info_csv()\n",
    "processed.data_csv = processed.write_preprocessed_csv() #optional: Events = True; motion = False not impleneted yet\n",
    "#optional:, motion_correct = True, Onix_align =False"
   ]
  },
  {
   "cell_type": "code",
   "execution_count": null,
   "id": "18",
   "metadata": {},
   "outputs": [],
   "source": [
    "processed.plot_all_signals(sensors, plot_info)"
   ]
  },
  {
   "cell_type": "code",
   "execution_count": null,
   "id": "19",
   "metadata": {},
   "outputs": [],
   "source": []
  }
 ],
 "metadata": {
  "kernelspec": {
   "display_name": "aeon",
   "language": "python",
   "name": "aeon"
  },
  "language_info": {
   "codemirror_mode": {
    "name": "ipython",
    "version": 3
   },
   "file_extension": ".py",
   "mimetype": "text/x-python",
   "name": "python",
   "nbconvert_exporter": "python",
   "pygments_lexer": "ipython3",
   "version": "3.11.11"
  }
 },
 "nbformat": 4,
 "nbformat_minor": 5
}
