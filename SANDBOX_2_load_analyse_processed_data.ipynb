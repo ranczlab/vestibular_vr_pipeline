{
 "cells": [
  {
   "cell_type": "code",
   "execution_count": null,
   "metadata": {},
   "outputs": [],
   "source": [
    "from pathlib import Path\n",
    "import os\n",
    "import numpy as np\n",
    "import pandas as pd\n",
    "import matplotlib.pyplot as plt\n",
    "import plotly.graph_objects as go\n",
    "import plotly.io as pio\n",
    "import plotly.express as px\n",
    "from plotly.subplots import make_subplots\n",
    "from scipy.stats import mode\n",
    "from scipy.integrate import cumulative_trapezoid\n",
    "from scipy.signal import correlate\n",
    "import json\n",
    "%config Completer.use_jedi = False  # Fixes autocomplete issues\n",
    "%config InlineBackend.figure_format = 'retina'  # Improves plot resolution\n",
    "\n",
    "import gc # garbage collector for removing large variables from memory instantly \n",
    "import importlib #for force updating changed packages \n",
    "\n",
    "#import harp\n",
    "import harp_resources.process\n",
    "import harp_resources.utils\n",
    "from harp_resources import process, utils # Reassign to maintain direct references for force updating \n",
    "#from sleap import load_and_process as lp"
   ]
  },
  {
   "cell_type": "code",
   "execution_count": null,
   "metadata": {},
   "outputs": [],
   "source": [
    "common_resampled_rate = 1000 #in Hz\n",
    "event_name = \"Apply halt: 2s\" #event to align data to, can make into list in the future?\n",
    "\n",
    "#PATH TO Cohort 1 visual mismatch THIS\n",
    "rawdata_path = Path('/Users/rancze/Documents/Data/vestVR/Cohort1/Visual_mismatch_day3/B6J2717-2024-12-10T12-17-03')\n",
    "data_path = rawdata_path.parent / f\"{rawdata_path.name}_processedData/downsampled_data\"\n",
    "save_path = rawdata_path.parent / f\"{rawdata_path.name}_processedData\"\n",
    "session_name = \"_\".join(data_path.parts[-2:])\n",
    "\n",
    "\n",
    "photometry_tracking_encoder_data = pd.read_parquet(data_path / \"photometry_tracking_encoder_data.parquet\", engine=\"pyarrow\")\n",
    "camera_photodiode_data = pd.read_parquet(data_path / \"camera_photodiode_data.parquet\", engine=\"pyarrow\")\n",
    "experiment_events = pd.read_parquet(data_path / \"experiment_events.parquet\", engine=\"pyarrow\")\n",
    "photometry_info = pd.read_parquet(data_path / \"photometry_info.parquet\", engine=\"pyarrow\")\n",
    "session_settings = pd.read_parquet(data_path / \"session_settings.parquet\", engine=\"pyarrow\")\n",
    "session_settings[\"metadata\"] = session_settings[\"metadata\"].apply(process.safe_from_json)\n",
    "\n",
    "print(f\"✅ Finished loading all parquet files\")\n",
    "\n",
    "\n"
   ]
  },
  {
   "cell_type": "code",
   "execution_count": null,
   "metadata": {},
   "outputs": [],
   "source": [
    "#---------------------------------------------------\n",
    "# PLOT FIGURE to ascertain everything is well loaded\n",
    "#---------------------------------------------------\n",
    "\n",
    "df_to_analyze = photometry_tracking_encoder_data[\"Photodiode_int\"] #using downsampled values in common time grid \n",
    "#df_to_analyze = camera_photodiode_data[\"Photodiode\"] #use async raw values if needed for troubleshooting, but the nearest indices needs to be found , see couple of lines below\n",
    "photodiode_halts, photodiode_delay_min, photodiode_delay_avg, photodiode_delay_max = process.analyze_photodiode(df_to_analyze, experiment_events, event_name, plot = True)\n",
    "# nearest_indices = photometry_tracking_encoder_data.index.get_indexer(photodiode_halts, method='nearest')\n",
    "# photodiode_halts = photometry_tracking_encoder_data.index[nearest_indices]\n",
    "process.plot_figure_1(photometry_tracking_encoder_data, session_name, save_path, common_resampled_rate, photodiode_halts, save_figure = False, show_figure = True, downsample_factor=50)"
   ]
  },
  {
   "cell_type": "code",
   "execution_count": null,
   "metadata": {},
   "outputs": [],
   "source": [
    "# Force reload the modules\n",
    "importlib.reload(harp_resources.process)\n",
    "importlib.reload(harp_resources.utils)\n",
    "# Reassign after reloading to ensure updated references\n",
    "process = harp_resources.process\n",
    "utils = harp_resources.utils"
   ]
  },
  {
   "cell_type": "code",
   "execution_count": null,
   "metadata": {},
   "outputs": [],
   "source": [
    "#-----------------------------------------\n",
    "# Get Block times and durations\n",
    "#-----------------------------------------\n",
    "\n",
    "block_events = experiment_events[\n",
    "    experiment_events[\"Event\"].str.contains(\"block started|Block timer elapsed\", case=False, na=False)\n",
    "].copy()  # Use .copy() to avoid SettingWithCopyWarning\n",
    "block_events[\"Time Difference\"] = block_events.index.to_series().diff().dt.total_seconds()\n",
    "block_events = block_events.drop(columns=['Seconds'])\n",
    "\n",
    "# Print results\n",
    "print(block_events)\n"
   ]
  },
  {
   "cell_type": "code",
   "execution_count": null,
   "metadata": {},
   "outputs": [],
   "source": [
    "# Extract times when the event \"Applying halt: 2s\" occurs\n",
    "halt_times = experiment_events[experiment_events[\"Event\"].str.contains(\"Apply halt: 2s\")].index\n",
    "print(halt_times)\n",
    "\n",
    "# Create an empty DataFrame to store aligned data\n",
    "aligned_data = []\n",
    "\n",
    "# Loop through each halt event time\n",
    "for halt_time in halt_times:\n",
    "    # Extract data in the [-1s, +5s] window\n",
    "    window_data = photometry_tracking_encoder_data.loc[\n",
    "        (photometry_tracking_encoder_data.index >= halt_time - pd.Timedelta(seconds=1)) &\n",
    "        (photometry_tracking_encoder_data.index <= halt_time + pd.Timedelta(seconds=5))\n",
    "    ].copy()\n",
    "\n",
    "    # Compute time relative to halt\n",
    "    window_data[\"Time (s)\"] = (window_data.index - halt_time).total_seconds()\n",
    "    \n",
    "    # Add event identifier\n",
    "    window_data[\"Halt Time\"] = halt_time\n",
    "\n",
    "    # Store aligned data\n",
    "    aligned_data.append(window_data)\n",
    "\n",
    "# Concatenate all windows\n",
    "aligned_df = pd.concat(aligned_data)\n",
    "\n",
    "# Plot the data\n",
    "fig, ax1 = plt.subplots(figsize=(10, 6))\n",
    "\n",
    "# Plot Photodiode_int on the primary y-axis\n",
    "for halt_time in halt_times:\n",
    "    subset = aligned_df[aligned_df[\"Halt Time\"] == halt_time]\n",
    "    ax1.plot(subset[\"Time (s)\"], subset[\"Photodiode_int\"], label=f'Photodiode at {halt_time}')\n",
    "\n",
    "ax1.set_xlabel('Time (s) relative to halt')\n",
    "ax1.set_ylabel('Photodiode_int')\n",
    "ax1.set_title('Photodiode and z_470 Signals Triggered by \"Applying halt: 2s\" Events')\n",
    "\n",
    "# Create a secondary y-axis for z_470\n",
    "ax2 = ax1.twinx()\n",
    "for halt_time in halt_times:\n",
    "    subset = aligned_df[aligned_df[\"Halt Time\"] == halt_time]\n",
    "    ax2.plot(subset[\"Time (s)\"], subset[\"z_470\"], label=f'z_470 at {halt_time}', linestyle='--')\n",
    "\n",
    "ax2.set_ylabel('z_470')\n",
    "\n",
    "# Show the plot\n",
    "fig.tight_layout()\n",
    "plt.show()"
   ]
  },
  {
   "cell_type": "markdown",
   "metadata": {},
   "source": [
    "NEXT - get event triggered averages of all relevant data and reproduce figure below \n",
    "**THIS IS NOT WORKING, SUGGEST 1. downsample photodiode signal and well and save togerther with dataset.**\n",
    "\n",
    "NEXT - think about / run some correlation analysis "
   ]
  },
  {
   "cell_type": "code",
   "execution_count": null,
   "metadata": {},
   "outputs": [],
   "source": [
    "halt_times"
   ]
  },
  {
   "cell_type": "code",
   "execution_count": null,
   "metadata": {},
   "outputs": [],
   "source": [
    "pympler_memory_df = utils.get_pympler_memory_usage(top_n=10)\n"
   ]
  }
 ],
 "metadata": {
  "kernelspec": {
   "display_name": "aeon",
   "language": "python",
   "name": "python3"
  },
  "language_info": {
   "codemirror_mode": {
    "name": "ipython",
    "version": 3
   },
   "file_extension": ".py",
   "mimetype": "text/x-python",
   "name": "python",
   "nbconvert_exporter": "python",
   "pygments_lexer": "ipython3",
   "version": "3.11.11"
  }
 },
 "nbformat": 4,
 "nbformat_minor": 2
}
