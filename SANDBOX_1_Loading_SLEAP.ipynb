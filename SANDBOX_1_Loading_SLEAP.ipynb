{
 "cells": [
  {
   "cell_type": "markdown",
   "id": "0",
   "metadata": {},
   "source": [
    "## Setup"
   ]
  },
  {
   "cell_type": "code",
   "execution_count": null,
   "id": "1",
   "metadata": {},
   "outputs": [],
   "source": [
    "import numpy as np\n",
    "from pathlib import Path\n",
    "import os\n",
    "import matplotlib.pyplot as plt\n",
    "import pandas as pd\n",
    "import plotly.graph_objects as go\n",
    "\n",
    "from harp_resources import process, utils\n",
    "from sleap import load_and_process as lp"
   ]
  },
  {
   "cell_type": "code",
   "execution_count": null,
   "id": "2",
   "metadata": {},
   "outputs": [],
   "source": [
    "data_path = Path('/Users/rancze/Documents/Data/vestVR/Cohort1/Visual_mismatch_day3/B6J2717-2024-12-10T12-17-03')\n",
    "photometry_path = Path('/Users/rancze/Documents/Data/vestVR/Cohort1/Visual_mismatch_day3/B6J2717-2024-12-10T12-17-03/photometry')\n",
    "SessionSettings = utils.read_SessionSettings(data_path, print_contents=False)"
   ]
  },
  {
   "cell_type": "markdown",
   "id": "3",
   "metadata": {},
   "source": [
    "## Videography and SLEAP\n",
    "### Load and QC videography data\n",
    "commented out lines may be useful"
   ]
  },
  {
   "cell_type": "code",
   "execution_count": null,
   "id": "4",
   "metadata": {},
   "outputs": [],
   "source": [
    "VideoData1, VideoData2, VideoData1_Has_Sleap, VideoData2_Has_Sleap = lp.load_videography_data(data_path)\n",
    "VideoData1 = VideoData1.drop(columns=['track'])\n",
    "columns_of_interest = ['left.x','left.y','center.x','center.y','right.x','right.y','p1.x','p1.y','p2.x','p2.y','p3.x','p3.y','p4.x','p4.y','p5.x','p5.y','p6.x','p6.y','p7.x','p7.y','p8.x','p8.y']\n",
    "coordinates_dict=lp.get_coordinates_dict(VideoData1, columns_of_interest)"
   ]
  },
  {
   "cell_type": "code",
   "execution_count": null,
   "id": "5",
   "metadata": {},
   "outputs": [],
   "source": [
    "# Create figure for x coordinates\n",
    "fig_x = go.Figure()\n",
    "fig_x.add_trace(go.Scatter(x=VideoData1['Seconds'], y=VideoData1['left.x'], mode='lines', name='left.x'))\n",
    "fig_x.add_trace(go.Scatter(x=VideoData1['Seconds'], y=VideoData1['center.x'], mode='lines', name='center.x'))\n",
    "fig_x.add_trace(go.Scatter(x=VideoData1['Seconds'], y=VideoData1['right.x'], mode='lines', name='right.x'))\n",
    "fig_x.update_layout(title='X coordinates for pupil centre add left-right eye corner', xaxis_title='Seconds', yaxis_title='X Position')\n",
    "fig_x.show()\n",
    "\n",
    "# Create figure for y coordinates\n",
    "fig_y = go.Figure()\n",
    "fig_y.add_trace(go.Scatter(x=VideoData1['Seconds'], y=VideoData1['left.y'], mode='lines', name='left.y'))\n",
    "fig_y.add_trace(go.Scatter(x=VideoData1['Seconds'], y=VideoData1['center.y'], mode='lines', name='center.y'))\n",
    "fig_y.add_trace(go.Scatter(x=VideoData1['Seconds'], y=VideoData1['right.y'], mode='lines', name='right.y'))\n",
    "fig_y.update_layout(title='Y coordinates for pupil centre add left-right eye corner', xaxis_title='Seconds', yaxis_title='Y Position')\n",
    "fig_y.show()\n",
    "\n",
    "# Create figure for p.x coordinates\n",
    "fig_px = go.Figure()\n",
    "for col in ['p1.x', 'p2.x', 'p3.x', 'p4.x', 'p5.x', 'p6.x', 'p7.x', 'p8.x']:\n",
    "    fig_px.add_trace(go.Scatter(x=VideoData1['Seconds'], y=VideoData1[col], mode='lines', name=col))\n",
    "fig_px.update_layout(title='X coordinates for iris points', xaxis_title='Seconds', yaxis_title='X Position')\n",
    "fig_px.show()\n",
    "\n",
    "# Create figure for p.y coordinates\n",
    "fig_py = go.Figure()\n",
    "for col in ['p1.y', 'p2.y', 'p3.y', 'p4.y', 'p5.y', 'p6.y', 'p7.y', 'p8.y']:\n",
    "    fig_py.add_trace(go.Scatter(x=VideoData1['Seconds'], y=VideoData1[col], mode='lines', name=col))\n",
    "fig_py.update_layout(title='Y coordinates for iris points', xaxis_title='Seconds', yaxis_title='Y Position')\n",
    "fig_py.show()"
   ]
  },
  {
   "cell_type": "code",
   "execution_count": null,
   "id": "6",
   "metadata": {},
   "outputs": [],
   "source": [
    "columns_of_interest = ['left', 'right', 'center', 'p1', 'p2', 'p3', 'p4', 'p5', 'p6', 'p7', 'p8']\n",
    "\n",
    "# Filter out NaN values and calculate the min and max values for X and Y coordinates\n",
    "x_min = min([coordinates_dict[f'{col}.x'][~np.isnan(coordinates_dict[f'{col}.x'])].min() for col in columns_of_interest])\n",
    "x_max = max([coordinates_dict[f'{col}.x'][~np.isnan(coordinates_dict[f'{col}.x'])].max() for col in columns_of_interest])\n",
    "y_min = min([coordinates_dict[f'{col}.y'][~np.isnan(coordinates_dict[f'{col}.y'])].min() for col in columns_of_interest])\n",
    "y_max = max([coordinates_dict[f'{col}.y'][~np.isnan(coordinates_dict[f'{col}.y'])].max() for col in columns_of_interest])\n",
    "\n",
    "fig, ax = plt.subplots(nrows=1, ncols=2, figsize=(15, 7))\n",
    "\n",
    "# Plot left, right, and center in the first plot\n",
    "ax[0].set_title('left, right, center')\n",
    "ax[0].scatter(coordinates_dict['left.x'], coordinates_dict['left.y'], color='black', label='left', s=10)\n",
    "ax[0].scatter(coordinates_dict['right.x'], coordinates_dict['right.y'], color='grey', label='right', s=10)\n",
    "ax[0].scatter(coordinates_dict['center.x'], coordinates_dict['center.y'], color='red', label='center', s=10)\n",
    "ax[0].set_xlim([x_min, x_max])\n",
    "ax[0].set_ylim([y_min, y_max])\n",
    "ax[0].set_xlabel('x coordinates (pixels)')\n",
    "ax[0].set_ylabel('y coordinates (pixels)')\n",
    "ax[0].legend(loc='upper right')\n",
    "\n",
    "# Plot p1 to p8 in the second plot with different colors and smaller markers\n",
    "colors = ['blue', 'green', 'red', 'cyan', 'magenta', 'yellow', 'black', 'orange']\n",
    "for idx, col in enumerate(columns_of_interest[3:]):\n",
    "    ax[1].scatter(coordinates_dict[f'{col}.x'], coordinates_dict[f'{col}.y'], color=colors[idx], label=col, s=5)\n",
    "\n",
    "ax[1].set_xlim([x_min, x_max])\n",
    "ax[1].set_ylim([y_min, y_max])\n",
    "ax[1].set_title('p1 to p8')\n",
    "ax[1].set_xlabel('x coordinates (pixels)')\n",
    "ax[1].set_ylabel('y coordinates (pixels)')\n",
    "ax[1].legend(loc='upper right')\n",
    "\n",
    "plt.tight_layout()\n",
    "plt.show()\n"
   ]
  },
  {
   "cell_type": "code",
   "execution_count": null,
   "id": "7",
   "metadata": {},
   "outputs": [],
   "source": [
    "columns_of_interest = ['left.x','left.y','center.x','center.y','right.x','right.y','p1.x','p1.y','p2.x','p2.y','p3.x','p3.y','p4.x','p4.y','p5.x','p5.y','p6.x','p6.y','p7.x','p7.y','p8.x','p8.y']\n",
    "\n",
    "all_nan_df = VideoData1[VideoData1[columns_of_interest].isnull().all(1)]\n",
    "all_nan_index_array = all_nan_df.index.values\n",
    "\n",
    "# print the groups of sequential NaNs\n",
    "group_counts = {'1-5': 0, '6-10': 0, '>10': 0}\n",
    "i = 1\n",
    "for group in lp.find_sequential_groups(all_nan_index_array):\n",
    "    #print(f'NaN frame group {i} with {len(group)} elements')\n",
    "    if 1 <= len(group) <= 5:\n",
    "        group_counts['1-5'] += 1\n",
    "    elif 6 <= len(group) <= 10:\n",
    "        group_counts['6-10'] += 1\n",
    "    else:\n",
    "        group_counts['>10'] += 1\n",
    "        print(f'Framegroup {i} has {len(group)} consecutive all NaN frames  with indices {group}')\n",
    "    i += 1\n",
    "\n",
    "print(f\"Framegroups with 1-5 consecutive all NaN frames: {group_counts['1-5']}\")\n",
    "print(f\"Framegroups with 6-10 consecutive all NaN frames: {group_counts['6-10']}\")\n",
    "print(f\"Framegroups with >10 consecutive all NaN frames: {group_counts['>10']}\")"
   ]
  },
  {
   "cell_type": "markdown",
   "id": "8",
   "metadata": {},
   "source": [
    "### SLEAP processing"
   ]
  },
  {
   "cell_type": "code",
   "execution_count": null,
   "id": "9",
   "metadata": {},
   "outputs": [],
   "source": [
    "# make mean pupil center coordinate zero \n",
    "columns_of_interest = ['left.x','left.y','center.x','center.y','right.x','right.y','p1.x','p1.y','p2.x','p2.y','p3.x','p3.y','p4.x','p4.y','p5.x','p5.y','p6.x','p6.y','p7.x','p7.y','p8.x','p8.y']\n",
    "\n",
    "# Calculate the mean of the center x and y points\n",
    "mean_center_x = VideoData1['center.x'].mean()\n",
    "mean_center_y = VideoData1['center.y'].mean()\n",
    "\n",
    "print(f\"Mean center.x: {mean_center_x}, Mean center.y: {mean_center_y}\")\n",
    "\n",
    "# Translate the coordinates\n",
    "for col in columns_of_interest:\n",
    "    if '.x' in col:\n",
    "        VideoData1[col] = VideoData1[col] - mean_center_x\n",
    "    elif '.y' in col:\n",
    "        VideoData1[col] = VideoData1[col] - mean_center_y\n",
    "\n",
    "# Calculate the standard deviation for each column of interest\n",
    "std_devs = {col: VideoData1[col].std() for col in columns_of_interest}\n",
    "\n",
    "# Calculate the number of outliers for each column\n",
    "outliers = {col: ((VideoData1[col] - VideoData1[col].mean()).abs() > 10 * std_devs[col]).sum() for col in columns_of_interest}\n",
    "\n",
    "# Find the channel with the maximum number of outliers\n",
    "max_outliers_channel = max(outliers, key=outliers.get)\n",
    "max_outliers_count = outliers[max_outliers_channel]\n",
    "\n",
    "# Print the channel with the maximum number of outliers and the number\n",
    "print(f\"Channel with the maximum number of outliers: {max_outliers_channel}, Number of outliers: {max_outliers_count}\")\n",
    "\n",
    "# Print the total number of outliers\n",
    "total_outliers = sum(outliers.values())\n",
    "print(f\"A total number of {total_outliers} outliers will be replaced by interpolation\")\n",
    "\n",
    "# Replace outliers by interpolating between the previous and subsequent non-NaN value\n",
    "for col in columns_of_interest:\n",
    "    outlier_indices = VideoData1[((VideoData1[col] - VideoData1[col].mean()).abs() > 10 * std_devs[col])].index\n",
    "    VideoData1.loc[outlier_indices, col] = np.nan\n",
    "\n",
    "VideoData1.interpolate(inplace=True)"
   ]
  },
  {
   "cell_type": "code",
   "execution_count": null,
   "id": "10",
   "metadata": {},
   "outputs": [],
   "source": [
    "columns_of_interest = ['left.x','left.y','center.x','center.y','right.x','right.y','p1.x','p1.y','p2.x','p2.y','p3.x','p3.y','p4.x','p4.y','p5.x','p5.y','p6.x','p6.y','p7.x','p7.y','p8.x','p8.y']\n",
    "coordinates_dict=lp.get_coordinates_dict(VideoData1, columns_of_interest)\n",
    "\n",
    "columns_of_interest = ['left', 'right', 'center', 'p1', 'p2', 'p3', 'p4', 'p5', 'p6', 'p7', 'p8']\n",
    "\n",
    "# Filter out NaN values and calculate the min and max values for X and Y coordinates\n",
    "x_min = min([coordinates_dict[f'{col}.x'][~np.isnan(coordinates_dict[f'{col}.x'])].min() for col in columns_of_interest])\n",
    "x_max = max([coordinates_dict[f'{col}.x'][~np.isnan(coordinates_dict[f'{col}.x'])].max() for col in columns_of_interest])\n",
    "y_min = min([coordinates_dict[f'{col}.y'][~np.isnan(coordinates_dict[f'{col}.y'])].min() for col in columns_of_interest])\n",
    "y_max = max([coordinates_dict[f'{col}.y'][~np.isnan(coordinates_dict[f'{col}.y'])].max() for col in columns_of_interest])\n",
    "\n",
    "fig, ax = plt.subplots(nrows=1, ncols=2, figsize=(15, 7))\n",
    "\n",
    "# Plot left, right, and center in the first plot\n",
    "ax[0].set_title('left, right, center')\n",
    "ax[0].scatter(coordinates_dict['left.x'], coordinates_dict['left.y'], color='black', label='left', s=10)\n",
    "ax[0].scatter(coordinates_dict['right.x'], coordinates_dict['right.y'], color='grey', label='right', s=10)\n",
    "ax[0].scatter(coordinates_dict['center.x'], coordinates_dict['center.y'], color='red', label='center', s=10)\n",
    "ax[0].set_xlim([x_min, x_max])\n",
    "ax[0].set_ylim([y_min, y_max])\n",
    "ax[0].set_xlabel('x coordinates (pixels)')\n",
    "ax[0].set_ylabel('y coordinates (pixels)')\n",
    "ax[0].legend(loc='upper right')\n",
    "\n",
    "# Plot p1 to p8 in the second plot with different colors and smaller markers\n",
    "colors = ['blue', 'green', 'red', 'cyan', 'magenta', 'yellow', 'black', 'orange']\n",
    "for idx, col in enumerate(columns_of_interest[3:]):\n",
    "    ax[1].scatter(coordinates_dict[f'{col}.x'], coordinates_dict[f'{col}.y'], color=colors[idx], label=col, s=5)\n",
    "\n",
    "ax[1].set_xlim([x_min, x_max])\n",
    "ax[1].set_ylim([y_min, y_max])\n",
    "ax[1].set_title('p1 to p8')\n",
    "ax[1].set_xlabel('x coordinates (pixels)')\n",
    "ax[1].set_ylabel('y coordinates (pixels)')\n",
    "ax[1].legend(loc='upper right')\n",
    "\n",
    "plt.tight_layout()\n",
    "plt.show()"
   ]
  },
  {
   "cell_type": "code",
   "execution_count": null,
   "id": "11",
   "metadata": {},
   "outputs": [],
   "source": []
  },
  {
   "cell_type": "code",
   "execution_count": null,
   "id": "12",
   "metadata": {},
   "outputs": [],
   "source": [
    "VideoData1 = VideoData1.interpolate(method='linear', limit_direction='both')\n",
    "\n",
    "columns_of_interest = ['left.x','left.y','center.x','center.y','right.x','right.y','p1.x','p1.y','p2.x','p2.y','p3.x','p3.y','p4.x','p4.y','p5.x','p5.y','p6.x','p6.y','p7.x','p7.y','p8.x','p8.y']\n",
    "coordinates_dict=lp.get_coordinates_dict(VideoData1, columns_of_interest)\n",
    "\n",
    "theta = lp.find_horizontal_axis_angle(VideoData1, 'left', 'center')\n",
    "center_point = lp.get_left_right_center_point(coordinates_dict)\n",
    "\n",
    "columns_of_interest = ['left', 'right', 'center', 'p1', 'p2', 'p3', 'p4', 'p5', 'p6', 'p7', 'p8']\n",
    "remformatted_coordinates_dict = lp.get_reformatted_coordinates_dict(coordinates_dict, columns_of_interest)\n",
    "centered_coordinates_dict = lp.get_centered_coordinates_dict(remformatted_coordinates_dict, center_point)\n",
    "rotated_coordinates_dict = lp.get_rotated_coordinates_dict(centered_coordinates_dict, theta)\n",
    "\n",
    "columns_of_interest = ['p1', 'p2', 'p3', 'p4', 'p5', 'p6', 'p7', 'p8']\n",
    "ellipse_parameters_data, ellipse_center_points_data = lp.get_fitted_ellipse_parameters(rotated_coordinates_dict, columns_of_interest)\n",
    "\n",
    "average_diameter = np.mean([ellipse_parameters_data[:,0], ellipse_parameters_data[:,1]], axis=0)\n",
    "\n",
    "SleapVideoData1 = process.convert_arrays_to_dataframe(['Seconds', 'Ellipse.Diameter', 'Ellipse.Angle', 'Ellipse.Center.X', 'Ellipse.Center.Y'], [VideoData1['Seconds'].values, average_diameter, ellipse_parameters_data[:,2], ellipse_center_points_data[:,0], ellipse_center_points_data[:,1]])"
   ]
  },
  {
   "cell_type": "markdown",
   "id": "13",
   "metadata": {},
   "source": [
    "# NOW this is great. \n",
    "### 1st - move to functions, make it print a figure of the original and cleaned up coordinate distribution data. PLUS the cleaned up timeseries data. \n",
    "### 2nd - remove video Data loading from loading notebook and insert these functions instead.\n",
    "### 3nd - get the videodata, make datetime indexed (aeon?) and insert into the padded all data dataframe. Not sure how will it behave with resampling, need to think about it. "
   ]
  },
  {
   "cell_type": "code",
   "execution_count": null,
   "id": "14",
   "metadata": {},
   "outputs": [],
   "source": [
    "pympler_memory_df = utils.get_pympler_memory_usage(top_n=100)\n"
   ]
  },
  {
   "cell_type": "code",
   "execution_count": null,
   "id": "15",
   "metadata": {},
   "outputs": [],
   "source": []
  }
 ],
 "metadata": {
  "kernelspec": {
   "display_name": "aeon",
   "language": "python",
   "name": "python3"
  },
  "language_info": {
   "codemirror_mode": {
    "name": "ipython",
    "version": 3
   },
   "file_extension": ".py",
   "mimetype": "text/x-python",
   "name": "python",
   "nbconvert_exporter": "python",
   "pygments_lexer": "ipython3",
   "version": "3.11.11"
  }
 },
 "nbformat": 4,
 "nbformat_minor": 5
}
