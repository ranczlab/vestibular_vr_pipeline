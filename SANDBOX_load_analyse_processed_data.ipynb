{
 "cells": [
  {
   "cell_type": "code",
   "execution_count": null,
   "metadata": {},
   "outputs": [],
   "source": [
    "from pathlib import Path\n",
    "import os\n",
    "import numpy as np\n",
    "import pandas as pd\n",
    "import matplotlib.pyplot as plt\n",
    "import plotly.graph_objects as go\n",
    "import plotly.io as pio\n",
    "import plotly.express as px\n",
    "from plotly.subplots import make_subplots\n",
    "from scipy.stats import mode\n",
    "from scipy.integrate import cumulative_trapezoid\n",
    "from scipy.signal import correlate\n",
    "\n",
    "import gc # garbage collector for removing large variables from memory instantly \n",
    "import importlib #for force updating changed packages \n",
    "\n",
    "#import harp\n",
    "import harp_resources.process\n",
    "import harp_resources.utils\n",
    "from harp_resources import process, utils # Reassign to maintain direct references for force updating \n",
    "#from sleap import load_and_process as lp"
   ]
  },
  {
   "cell_type": "code",
   "execution_count": null,
   "metadata": {},
   "outputs": [],
   "source": [
    "common_resampled_rate = 1000 #in Hz\n",
    "\n",
    "#Cohort 1 visual mismatch THIS\n",
    "data_path = Path('/Users/rancze/Documents/Data/vestVR/Cohort1/Visual_mismatch_day3/B6J2717-2024-12-10T12-17-03')\n",
    "save_path = data_path.parent / f\"{data_path.name}_processedData\"\n",
    "session_name = \"_\".join(data_path.parts[-2:])\n",
    "\n",
    "# Load the saved parquet files\n",
    "photometry_tracking_encoder_data = pd.read_parquet(save_path / \"photometry_tracking_encoder_data_downsampled.parquet\", engine=\"pyarrow\")\n",
    "camera_photodiode_data = pd.read_parquet(save_path / \"camera_photodiode_data.parquet\", engine=\"pyarrow\")\n",
    "print(\"✅ Loaded the saved parquet files\")\n"
   ]
  },
  {
   "cell_type": "code",
   "execution_count": null,
   "metadata": {},
   "outputs": [],
   "source": [
    "process.plot_figure_1(photometry_tracking_encoder_data, session_name, save_path, common_resampled_rate, show_figure = False, downsample_factor=50)"
   ]
  },
  {
   "cell_type": "code",
   "execution_count": null,
   "metadata": {},
   "outputs": [],
   "source": [
    "# Filter the data for the specified time range\n",
    "filtered_data = camera_photodiode_data.between_time('01:59:16.96', '01:59:17')\n",
    "\n",
    "# Plot the Photodiode column\n",
    "plt.figure(figsize=(15, 5))\n",
    "plt.plot(filtered_data.index, filtered_data['Photodiode'], label='Photodiode')\n",
    "plt.xlabel('Time')\n",
    "plt.ylabel('Photodiode')\n",
    "plt.title('Photodiode Transitions Over Time')\n",
    "plt.show()"
   ]
  },
  {
   "cell_type": "code",
   "execution_count": null,
   "metadata": {},
   "outputs": [],
   "source": []
  },
  {
   "cell_type": "code",
   "execution_count": null,
   "metadata": {},
   "outputs": [],
   "source": []
  }
 ],
 "metadata": {
  "kernelspec": {
   "display_name": "aeon",
   "language": "python",
   "name": "python3"
  },
  "language_info": {
   "codemirror_mode": {
    "name": "ipython",
    "version": 3
   },
   "file_extension": ".py",
   "mimetype": "text/x-python",
   "name": "python",
   "nbconvert_exporter": "python",
   "pygments_lexer": "ipython3",
   "version": "3.11.11"
  }
 },
 "nbformat": 4,
 "nbformat_minor": 2
}
