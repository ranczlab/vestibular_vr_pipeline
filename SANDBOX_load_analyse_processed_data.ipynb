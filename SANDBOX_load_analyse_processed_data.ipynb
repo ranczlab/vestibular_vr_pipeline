{
 "cells": [
  {
   "cell_type": "code",
   "execution_count": null,
   "metadata": {},
   "outputs": [],
   "source": [
    "from pathlib import Path\n",
    "import os\n",
    "import numpy as np\n",
    "import pandas as pd\n",
    "import matplotlib.pyplot as plt\n",
    "import plotly.graph_objects as go\n",
    "import plotly.io as pio\n",
    "import plotly.express as px\n",
    "from plotly.subplots import make_subplots\n",
    "from scipy.stats import mode\n",
    "from scipy.integrate import cumulative_trapezoid\n",
    "from scipy.signal import correlate\n",
    "import json\n",
    "\n",
    "\n",
    "import gc # garbage collector for removing large variables from memory instantly \n",
    "import importlib #for force updating changed packages \n",
    "\n",
    "#import harp\n",
    "import harp_resources.process\n",
    "import harp_resources.utils\n",
    "from harp_resources import process, utils # Reassign to maintain direct references for force updating \n",
    "#from sleap import load_and_process as lp"
   ]
  },
  {
   "cell_type": "code",
   "execution_count": null,
   "metadata": {},
   "outputs": [],
   "source": [
    "common_resampled_rate = 1000 #in Hz\n",
    "event_name = \"Apply halt: 2s\" #event to align data to, can make into list in the future?\n",
    "\n",
    "#Cohort 1 visual mismatch THIS\n",
    "rawdata_path = Path('/Users/rancze/Documents/Data/vestVR/Cohort1/Visual_mismatch_day3/B6J2717-2024-12-10T12-17-03')\n",
    "data_path = rawdata_path.parent / f\"{rawdata_path.name}_processedData/downsampled_data\"\n",
    "save_path = rawdata_path.parent / f\"{rawdata_path.name}_processedData\"\n",
    "session_name = \"_\".join(data_path.parts[-2:])\n",
    "\n",
    "# Load all parquet files from the directory and assign to individual variables\n",
    "for file in data_path.glob(\"*.parquet\"):\n",
    "    var_name = file.stem\n",
    "    if var_name == \"session_settings\":\n",
    "        session_settings = pd.read_parquet(file, engine=\"pyarrow\")\n",
    "        session_settings[\"metadata\"] = session_settings[\"metadata\"].apply(process.safe_from_json)\n",
    "        print(f\"✅ Loaded {var_name} parquet file with special treatment\")\n",
    "    else:\n",
    "        globals()[var_name] = pd.read_parquet(file, engine=\"pyarrow\")\n",
    "        print(f\"✅ Loaded {var_name} parquet file\")\n",
    "\n",
    "\n"
   ]
  },
  {
   "cell_type": "code",
   "execution_count": null,
   "metadata": {},
   "outputs": [],
   "source": [
    "session_settings"
   ]
  },
  {
   "cell_type": "code",
   "execution_count": null,
   "metadata": {},
   "outputs": [],
   "source": [
    "# detect events in the photodiode signal and align to the nearest timestamps in downsampled data \n",
    "photodiode_halts = process.calculate_photodiode_falling_edges(camera_photodiode_data[['Photodiode']], experiment_events, event_name)\n",
    "nearest_indices = photometry_tracking_encoder_data.index.get_indexer(photodiode_halts, method='nearest')\n",
    "photodiode_halts = photometry_tracking_encoder_data.index[nearest_indices]\n",
    "process.plot_figure_1(photometry_tracking_encoder_data, session_name, save_path, common_resampled_rate, photodiode_halts, save_figure = False, show_figure = True, downsample_factor=50)"
   ]
  },
  {
   "cell_type": "code",
   "execution_count": null,
   "metadata": {},
   "outputs": [],
   "source": [
    "# Force reload the modules\n",
    "importlib.reload(harp_resources.process)\n",
    "importlib.reload(harp_resources.utils)\n",
    "# Reassign after reloading to ensure updated references\n",
    "process = harp_resources.process\n",
    "utils = harp_resources.utils"
   ]
  },
  {
   "cell_type": "code",
   "execution_count": null,
   "metadata": {},
   "outputs": [],
   "source": [
    "# Load DataFrame from Parquet\n",
    "session_settings = pd.read_parquet(data_path / \"session_settings.parquet\", engine=\"pyarrow\")\n",
    "# Convert JSON string back to dictionary\n",
    "session_settings[\"metadata\"] = session_settings[\"metadata\"].apply(json.loads)\n"
   ]
  },
  {
   "cell_type": "code",
   "execution_count": null,
   "metadata": {},
   "outputs": [],
   "source": [
    "session_settings"
   ]
  },
  {
   "cell_type": "code",
   "execution_count": null,
   "metadata": {},
   "outputs": [],
   "source": [
    "pympler_memory_df = utils.get_pympler_memory_usage(top_n=10)\n"
   ]
  },
  {
   "cell_type": "code",
   "execution_count": null,
   "metadata": {},
   "outputs": [],
   "source": []
  }
 ],
 "metadata": {
  "kernelspec": {
   "display_name": "aeon",
   "language": "python",
   "name": "python3"
  },
  "language_info": {
   "codemirror_mode": {
    "name": "ipython",
    "version": 3
   },
   "file_extension": ".py",
   "mimetype": "text/x-python",
   "name": "python",
   "nbconvert_exporter": "python",
   "pygments_lexer": "ipython3",
   "version": "3.11.11"
  }
 },
 "nbformat": 4,
 "nbformat_minor": 2
}
