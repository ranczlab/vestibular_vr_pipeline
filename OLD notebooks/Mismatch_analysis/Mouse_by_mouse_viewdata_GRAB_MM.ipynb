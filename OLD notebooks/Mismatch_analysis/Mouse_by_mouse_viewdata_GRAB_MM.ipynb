{
 "cells": [
  {
   "cell_type": "markdown",
   "id": "0",
   "metadata": {},
   "source": [
    "# View GRAB mismatch closed and open loop, session1 and 2"
   ]
  },
  {
   "cell_type": "code",
   "execution_count": null,
   "id": "1",
   "metadata": {},
   "outputs": [],
   "source": [
    "import pandas as pd\n",
    "import numpy as np\n",
    "import matplotlib.pyplot as plt\n",
    "from matplotlib.patches import Rectangle\n",
    "from scipy.stats import pearsonr, spearmanr\n",
    "from analysis_functions import *\n",
    "from model_functions import *\n",
    "import matplotlib.patches as patches\n",
    "import seaborn as sns"
   ]
  },
  {
   "cell_type": "code",
   "execution_count": null,
   "id": "2",
   "metadata": {},
   "outputs": [],
   "source": [
    "RunTresholdDict = {'B3M1': 145, 'B3M2': 295, 'B3M3': 325, 'B2M4': 110, 'B2M5': 180}"
   ]
  },
  {
   "cell_type": "code",
   "execution_count": null,
   "id": "3",
   "metadata": {},
   "outputs": [],
   "source": [
    "GRAB_MM_1 = pd.read_csv('GRAB_MMclosed_open_session1.csv', dtype=dtype_dict)\n",
    "GRAB_MM_2 = pd.read_csv('GRAB_MMclosed_open_session2.csv', dtype=dtype_dict)"
   ]
  },
  {
   "cell_type": "code",
   "execution_count": null,
   "id": "4",
   "metadata": {},
   "outputs": [],
   "source": [
    "# Chaning event name to halt and making it so that its True when there is a halt\n",
    "#GRAB_MM_1.loc[:, 'event'] = GRAB_MM_1['event'].replace({False: True, True: False})\n",
    "GRAB_MM_1.rename(columns = {'event': 'halt'}, inplace = True)\n",
    "GRAB_MM_2.rename(columns = {'event': 'halt'}, inplace = True)\n"
   ]
  },
  {
   "cell_type": "code",
   "execution_count": null,
   "id": "5",
   "metadata": {},
   "outputs": [],
   "source": [
    "#Make sure the index provides inforamtion of seconds since start\n",
    "GRAB_MM_1.set_index('Seconds', inplace=True)\n",
    "GRAB_MM_2.set_index('Seconds', inplace=True)\n",
    "# Theres only photomotry information from 15 seconds due to bleaching\n",
    "GRAB_MM_1 = GRAB_MM_1.loc[ GRAB_MM_1.index>30]\n",
    "GRAB_MM_2 = GRAB_MM_2.loc[ GRAB_MM_2.index>30]"
   ]
  },
  {
   "cell_type": "code",
   "execution_count": null,
   "id": "6",
   "metadata": {},
   "outputs": [],
   "source": [
    "#Check that the same mice are in the datsets\n",
    "print(GRAB_MM_1.mouseID.unique())\n",
    "print(GRAB_MM_2.mouseID.unique())\n"
   ]
  },
  {
   "cell_type": "markdown",
   "id": "7",
   "metadata": {},
   "source": [
    "## View session data\n",
    "- Loop through the mouse names present in one of the dataframes (ideally they should be the same)\n",
    "- save a variable where each session is saved for the current mouse\n",
    "- use the view_session_mouse() funciton from analysis_functions.py to plot the Delta F/F 470 fluorescence and movement in X direction with halts in grey, and session blocks marked in colors.\n",
    "- Edit the function to plot different fluorescence traces, movements, and eyes.\n",
    "- This is mostly to get an impression of the overall data trends.\n",
    "\n",
    "Move the function into this file to test it.\n"
   ]
  },
  {
   "cell_type": "code",
   "execution_count": null,
   "id": "8",
   "metadata": {},
   "outputs": [],
   "source": [
    "for mouse in GRAB_MM_1.mouseID.unique():\n",
    "    mousedata = {'session 1':GRAB_MM_1.loc[GRAB_MM_1.mouseID == mouse], 'session 2':GRAB_MM_2.loc[GRAB_MM_2.mouseID == mouse]}\n",
    "    fig, ax = view_session_mouse(mousedata, mouse)\n",
    "    fig.savefig(f'Figures/GRAB{mouse}_view_alignment.png', format = 'png', dpi = 300)"
   ]
  },
  {
   "cell_type": "code",
   "execution_count": null,
   "id": "9",
   "metadata": {},
   "outputs": [],
   "source": [
    "#Filter mice to get unique indexes\n",
    "mouse_data = {'session 1':{'closedloop': {},'openloop': {} }, 'session 2': {'closedloop': {},'openloop': {}}}\n",
    "\n",
    "for mouse in GRAB_MM_1.mouseID.unique():\n",
    "    mouse_data['session 1']['closedloop'][mouse] = filter_data(GRAB_MM_1, filters = [mouse, 'closed_block'])\n",
    "    mouse_data['session 1']['openloop'][mouse] = filter_data(GRAB_MM_1, filters = [mouse, 'open_block'])\n",
    "for mouse in GRAB_MM_2.mouseID.unique():\n",
    "    mouse_data['session 2']['closedloop'][mouse] = filter_data(GRAB_MM_2, filters = [mouse, 'closed_block'])\n",
    "    mouse_data['session 2']['openloop'][mouse] = filter_data(GRAB_MM_2, filters = [mouse, 'open_block'])"
   ]
  },
  {
   "cell_type": "code",
   "execution_count": null,
   "id": "10",
   "metadata": {},
   "outputs": [],
   "source": [
    "GRAB_MM_1"
   ]
  },
  {
   "cell_type": "code",
   "execution_count": null,
   "id": "11",
   "metadata": {},
   "outputs": [],
   "source": [
    "def align_to_event_start(df, trace, event_col, range_around_event):\n",
    "    \n",
    "    trace_chunk_list = []\n",
    "    bsl_trace_chunk_list = []\n",
    "    run_speed_list = []\n",
    "    turn_speed_list = []\n",
    "    event_index_list = []\n",
    "    \n",
    "    # Identify the start times for each event\n",
    "    event_times = df.loc[df[event_col] & ~df[event_col].shift(1, fill_value=False)].index\n",
    "\n",
    "    # Calculate the time range around each event\n",
    "    before_0 = range_around_event[0]\n",
    "    after_0 = range_around_event[1]\n",
    "    \n",
    "    # Calculate the target length of each chunk based on the sampling rate\n",
    "    sampling_rate = 0.001\n",
    "    target_length = int(((before_0 + after_0) / sampling_rate) + 1)  # Include both ends\n",
    "    Index= pd.Series(np.linspace(-range_around_event[0], range_around_event[1], target_length)) # common index\n",
    "    \n",
    "    for event_time in event_times:\n",
    "        \n",
    "        # Determine the time range for each chunk\n",
    "        start = event_time - before_0\n",
    "        end = event_time + after_0\n",
    "        \n",
    "        # Extract the chunk from the trace column\n",
    "        chunk = df[trace].loc[start:end]\n",
    "        runspeed = df['movementX'].loc[start:event_time].mean() #Saving mean run speed up until halt\n",
    "        turningspeed = df['movementY'].loc[start:event_time].mean() \n",
    "        # Normalize the index to start at -before_0\n",
    "        chunk.index = (chunk.index - chunk.index[0]) - before_0\n",
    "        # Check if the chunk is shorter than the target length\n",
    "        if len(chunk) < target_length:\n",
    "            # Pad the chunk with NaN values at the end to reach the target length\n",
    "            padding = pd.Series([np.nan] * (target_length - len(chunk)), index=pd.RangeIndex(len(chunk), target_length))\n",
    "            chunk = pd.concat([chunk, padding])\n",
    "            chunk.index = Index # Getting the same index as the others\n",
    "        \n",
    "        # Baseline the chunk\n",
    "        baselined_chunk = baseline(chunk)\n",
    "        \n",
    "        # Append the chunk and baselined chunk to lists\n",
    "        trace_chunk_list.append(chunk.values)\n",
    "        bsl_trace_chunk_list.append(baselined_chunk.values)\n",
    "        run_speed_list.append(runspeed)\n",
    "        turn_speed_list.append(turningspeed)\n",
    "        event_index_list.append(event_time)  # Store the event time for use in final column names\n",
    "    # Convert lists of arrays to DataFrames\n",
    "    try:\n",
    "        trace_chunks = pd.DataFrame(np.column_stack(trace_chunk_list), columns=event_index_list)\n",
    "        bsl_trace_chunks = pd.DataFrame(np.column_stack(bsl_trace_chunk_list), columns=event_index_list)\n",
    "        run_speeds = pd.DataFrame(np.column_stack(run_speed_list), columns=event_index_list)\n",
    "        turn_speeds = pd.DataFrame(np.column_stack(turn_speed_list), columns=event_index_list)\n",
    "        movement_speeds = pd.concat([run_speeds, turn_speeds])\n",
    "        \n",
    "        # Set the index as the common time range index for each chunk\n",
    "        trace_chunks.index = Index\n",
    "        bsl_trace_chunks.index = Index\n",
    "        movement_speeds.index = ['Mean_moveX', 'Mean_moveY'] #set X and Y movement as movement speed index\n",
    "        \n",
    "        return trace_chunks, bsl_trace_chunks, movement_speeds\n",
    "    \n",
    "    except ValueError:\n",
    "        if len(event_times) < 1:\n",
    "            print('could not align to events because there were none, will return nothing')\n",
    "            \n",
    "        return 0, 0, 0\n"
   ]
  },
  {
   "cell_type": "code",
   "execution_count": null,
   "id": "12",
   "metadata": {},
   "outputs": [],
   "source": [
    "#Aligning open and closed loop block data to halt start times\n",
    "mouse_aligned = {'session 1':{'closedloop': {},'openloop': {} }, 'session 2': {'closedloop': {},'openloop': {}}}\n",
    "move_speeds = {'session 1':{'closedloop': {},'openloop': {} }, 'session 2': {'closedloop': {},'openloop': {}}}\n",
    "\n",
    "for session, session_dict in mouse_data.items():\n",
    "    for block, mice in session_dict.items():\n",
    "        for mouse, df in mice.items():\n",
    "            event_alinged, bsl_event_alinged, run_speeds = align_to_event_start(df, '470_dfF', 'halt',[1,2])\n",
    "            mouse_aligned[session][block][mouse]  = bsl_event_alinged  #bsl indicates that it is baselined to the last 1 second before halt\n",
    "            move_speeds[session][block][mouse]  = run_speeds\n",
    "    "
   ]
  },
  {
   "cell_type": "code",
   "execution_count": null,
   "id": "13",
   "metadata": {},
   "outputs": [],
   "source": [
    "print(move_speeds['session 1']['closedloop']['B3M7'])\n",
    "mouse_aligned['session 1']['closedloop']['B3M7']"
   ]
  },
  {
   "cell_type": "code",
   "execution_count": null,
   "id": "14",
   "metadata": {},
   "outputs": [],
   "source": [
    "len(mouse_aligned['session 1']['closedloop'].keys())"
   ]
  },
  {
   "cell_type": "code",
   "execution_count": null,
   "id": "15",
   "metadata": {},
   "outputs": [],
   "source": [
    "mouse_aligned_nohalt = {'session 1':{'closedloop': {},'openloop': {} }, 'session 2': {'closedloop': {},'openloop': {}}}\n",
    "move_speeds_nohalt = {'session 1':{'closedloop': {},'openloop': {} }, 'session 2': {'closedloop': {},'openloop': {}}}\n",
    "for session, session_dict in mouse_data.items():\n",
    "    for block, mice in session_dict.items():\n",
    "        for mouse, df in mice.items():\n",
    "            event_alinged, bsl_event_alinged, run_speeds = align_to_event_start(df, '470_dfF', 'No_halt',[1,2])\n",
    "            mouse_aligned_nohalt[session][block][mouse] = bsl_event_alinged  #bsl indicates that it is baselined to the last 1 second before halt\n",
    "            move_speeds_nohalt[session][block][mouse]  = run_speeds"
   ]
  },
  {
   "cell_type": "code",
   "execution_count": null,
   "id": "16",
   "metadata": {},
   "outputs": [],
   "source": [
    "mean_mouse_dict_s1 =plot_compare_blocks(mouse_aligned['session 1'], 'halt')\n",
    "mean_mouse_dict_s2 =plot_compare_blocks(mouse_aligned['session 2'], 'halt')"
   ]
  },
  {
   "cell_type": "code",
   "execution_count": null,
   "id": "17",
   "metadata": {},
   "outputs": [],
   "source": [
    "mean_mouse_dict_s1_nohalt =plot_compare_blocks(mouse_aligned_nohalt['session 1'], 'No halt')"
   ]
  },
  {
   "cell_type": "code",
   "execution_count": null,
   "id": "18",
   "metadata": {},
   "outputs": [],
   "source": [
    "mouse_aligned['session 1']['closedloop'].keys()"
   ]
  },
  {
   "cell_type": "code",
   "execution_count": null,
   "id": "19",
   "metadata": {},
   "outputs": [],
   "source": [
    "fig, axes = plt.subplots(len(mouse_aligned['session 1']['closedloop']),2, figsize = (10,10))\n",
    "axes = axes.flatten()\n",
    "i = 0\n",
    "for (mouse_open, alinged_data_open), (mouse, alinged_data_closed) in zip(mouse_aligned['session 1']['closedloop'].items(), mouse_aligned['session 1']['openloop'].items()):\n",
    "    ax = axes[i]\n",
    "    ax.spines[['right', 'top']].set_visible(False)\n",
    "    #Get no-halt trace\n",
    "    aligned_nohalt = mouse_aligned_nohalt['session 1']['closedloop'][mouse]\n",
    "\n",
    "    #Getting mean and standard devaiton\n",
    "    mouse_data_mean = alinged_data_closed.mean(axis=1)\n",
    "    mouse_data_std = alinged_data_closed.std(axis=1)\n",
    "    mouse_nohalt_mean = aligned_nohalt.mean(axis=1)\n",
    "    mouse_nohalt_std = aligned_nohalt.std(axis=1)\n",
    "\n",
    "    #Plot main trace \n",
    "    ax.plot(mouse_data_mean)\n",
    "    ax.fill_between(mouse_data_mean.index, mouse_data_mean+mouse_data_std, mouse_data_mean-mouse_data_std, color='cyan', alpha=0.3)\n",
    "    #plot control trace\n",
    "    control_trace = ax.plot(mouse_nohalt_mean, color = 'black', label = 'control')\n",
    "    ax.fill_between(mouse_nohalt_mean.index, mouse_nohalt_mean+mouse_nohalt_std, \n",
    "                       mouse_nohalt_mean-mouse_nohalt_std, color='black', alpha=0.1)\n",
    "    ax.set_title(f'{mouse} closed loop')\n",
    "    ax.axvline(0, c='grey', ls= '--')\n",
    "    i+=1\n",
    "    ax = axes[i]\n",
    "    ax.spines[['right', 'top']].set_visible(False)\n",
    "    #Get no-halt trace for open loop\n",
    "    aligned_nohalt_o = mouse_aligned_nohalt['session 1']['openloop'][mouse]\n",
    "\n",
    "    #Getting mean and standard devaiton\n",
    "    mouse_data_mean = alinged_data_open.mean(axis=1)\n",
    "    mouse_data_std = alinged_data_open.std(axis=1)\n",
    "    mouse_nohalt_o_mean = aligned_nohalt_o.mean(axis=1)\n",
    "    mouse_nohalt_o_std = aligned_nohalt_o.std(axis=1)\n",
    "\n",
    "    #Plot main trace \n",
    "    ax.plot(mouse_data_mean)\n",
    "    ax.fill_between(mouse_data_mean.index, mouse_data_mean+mouse_data_std, mouse_data_mean-mouse_data_std, color='cyan', alpha=0.3)\n",
    "    #plot control trace\n",
    "    control_trace = ax.plot(mouse_nohalt_o_mean, color = 'black', label = 'control')\n",
    "    ax.fill_between(mouse_nohalt_o_mean.index, mouse_nohalt_o_mean+mouse_nohalt_std, \n",
    "                       mouse_nohalt_o_mean-mouse_nohalt_o_std, color='black', alpha=0.1)\n",
    "    ax.set_title(f'{mouse} open loop')\n",
    "    ax.axvline(0, c='grey', ls= '--')\n",
    "    i+=1\n",
    "fig.tight_layout(pad=1.08)\n",
    "\n",
    "    \n",
    "    \n"
   ]
  },
  {
   "cell_type": "code",
   "execution_count": null,
   "id": "20",
   "metadata": {},
   "outputs": [],
   "source": [
    "sessions = mouse_aligned.keys()"
   ]
  },
  {
   "cell_type": "code",
   "execution_count": null,
   "id": "21",
   "metadata": {},
   "outputs": [],
   "source": [
    "'Mean_moveX' in move_speeds['session 1']['openloop']['B3M7'].index"
   ]
  },
  {
   "cell_type": "code",
   "execution_count": null,
   "id": "22",
   "metadata": {},
   "outputs": [],
   "source": []
  },
  {
   "cell_type": "code",
   "execution_count": null,
   "id": "23",
   "metadata": {},
   "outputs": [],
   "source": [
    "def extract_aligned_vars(aligned_data_dict, aligned_movement_dict):\n",
    "    # Initialize an empty list to store results\n",
    "    results = []\n",
    "    \n",
    "    for session_number, session_blocks in aligned_data_dict.items():\n",
    "        for session_block, mice_data in session_blocks.items():\n",
    "            for mouse_id, item in mice_data.items():\n",
    "                run_df = aligned_movement_dict[session_number][session_block][mouse_id]\n",
    "                # Check if the item is a DataFrame\n",
    "                if not isinstance(item, pd.DataFrame):\n",
    "                    print(f\"Warning: The data for Mouse ID '{mouse_id}' in session '{session_number}' and block '{session_block}' is not a DataFrame. Skipping.\")\n",
    "                    continue\n",
    "\n",
    "                # Copy the DataFrame and ensure the index is numeric\n",
    "                df = item.copy()\n",
    "                df.index = pd.to_numeric(df.index)\n",
    "\n",
    "                # Process each column independently\n",
    "                for column in df.columns:\n",
    "                    event_time_data = df.loc[0:1, column]  # Data during the event (0 to +1 seconds)\n",
    "                    post_event_data = df.loc[1:2, column]  # Data during the first second after the event (+1 to +2 seconds)\n",
    "\n",
    "                    peak_response = event_time_data.max()  # Max response during the event\n",
    "                    min_response = event_time_data.min()  # Minimum response during the event\n",
    "                    mean_response_event = event_time_data.mean()  # Mean response during the event\n",
    "                    mean_response_post_event = post_event_data.mean()  # Mean response during the post-event time\n",
    "                    min_response_post_event = post_event_data.min()  #Minimum response during the post-event time\n",
    "                    peak_response_post_event = post_event_data.max() #Maximum response during the post-event time\n",
    "\n",
    "                    #Given Mean_moveX and Y being the row names in the movement df, the 1 second pre halt movement speeds are added\n",
    "                    x_move = run_df.loc['Mean_moveX', column]\n",
    "                    y_move = run_df.loc['Mean_moveY', column]\n",
    "    \n",
    "                    #add results to list of dicts\n",
    "                    results.append({\n",
    "                        \"SessionNumber\": session_number,\n",
    "                        \"SessionBlock\": session_block,\n",
    "                        \"MouseID\": mouse_id,\n",
    "                        \"EventTime\": column,\n",
    "                        \"moveX\": x_move,\n",
    "                        \"moveY\": y_move,\n",
    "                        \"PeakResponse\": peak_response,\n",
    "                        \"MinResponse\":  min_response,\n",
    "                        \"MeanResponse\": mean_response_event,\n",
    "                        \"MeanResponse_after\": mean_response_post_event,\n",
    "                        \"MinResponse_after\": min_response_post_event,\n",
    "                        \"PeakResponse_after\": peak_response_post_event,\n",
    "                    })\n",
    "\n",
    "    # convert to a pandas df\n",
    "    output_df = pd.DataFrame(results)\n",
    "    return output_df\n",
    "\n"
   ]
  },
  {
   "cell_type": "code",
   "execution_count": null,
   "id": "24",
   "metadata": {},
   "outputs": [],
   "source": [
    "extracted_variables = extract_aligned_vars(mouse_aligned, move_speeds)\n"
   ]
  },
  {
   "cell_type": "code",
   "execution_count": null,
   "id": "25",
   "metadata": {},
   "outputs": [],
   "source": [
    "extracted_variables "
   ]
  },
  {
   "cell_type": "code",
   "execution_count": null,
   "id": "26",
   "metadata": {},
   "outputs": [],
   "source": [
    "extracted_variables_nohalt = extract_aligned_vars(mouse_aligned_nohalt, move_speeds_nohalt)\n"
   ]
  },
  {
   "cell_type": "code",
   "execution_count": null,
   "id": "27",
   "metadata": {},
   "outputs": [],
   "source": [
    "extracted_variables_nohalt['event']='no halt'\n",
    "extracted_variables['event']='halt'\n",
    "combined_vars = pd.concat([extracted_variables_nohalt, extracted_variables])\n",
    "\n",
    "combined_vars.to_csv('GRAB_MM_extracted_vars.csv', index=False)"
   ]
  },
  {
   "cell_type": "code",
   "execution_count": null,
   "id": "28",
   "metadata": {},
   "outputs": [],
   "source": [
    "##Consider adding to the fitted model a continous variable which is the time column\n",
    "#EventTime should currently be seconds from session start"
   ]
  },
  {
   "cell_type": "markdown",
   "id": "29",
   "metadata": {},
   "source": [
    "# Look for correlation between running and fluorescence changes"
   ]
  },
  {
   "cell_type": "code",
   "execution_count": null,
   "id": "30",
   "metadata": {},
   "outputs": [],
   "source": [
    "GRAB_MM_1"
   ]
  },
  {
   "cell_type": "code",
   "execution_count": null,
   "id": "31",
   "metadata": {},
   "outputs": [],
   "source": [
    "subset = filter_data(GRAB_MM_1, ['B3M7', 'day1'])"
   ]
  },
  {
   "cell_type": "code",
   "execution_count": null,
   "id": "32",
   "metadata": {},
   "outputs": [],
   "source": [
    "subset"
   ]
  },
  {
   "cell_type": "code",
   "execution_count": null,
   "id": "33",
   "metadata": {},
   "outputs": [],
   "source": [
    "# Compute Pearson correlation\n",
    "pearson_corr, pearson_pval = pearsonr(subset['movementX'], subset['470_dfF'])\n",
    "\n",
    "# Compute Spearman correlation (handles nonlinear relationships better)\n",
    "spearman_corr, spearman_pval = spearmanr(subset['movementX'], subset['470_dfF'])\n",
    "\n",
    "print(f\"Pearson correlation: {pearson_corr}, p-value: {pearson_pval}\")\n",
    "print(f\"Spearman correlation: {spearman_corr}, p-value: {spearman_pval}\")"
   ]
  },
  {
   "cell_type": "code",
   "execution_count": null,
   "id": "34",
   "metadata": {},
   "outputs": [],
   "source": [
    "resampled = subset.sample(10000, random_state=9)  # Sample 10,000 rows\n",
    "pearson_corr, pearson_pval = pearsonr(resampled['movementX'], resampled['470_dfF'])\n",
    "spearman_corr, spearman_pval = spearmanr(resampled['movementX'], resampled['470_dfF'])\n",
    "print(f\"Subset Pearson correlation: {pearson_corr}, p-value: {pearson_pval}\")\n",
    "print(f\"Subset Spearman correlation: {spearman_corr}, p-value: {spearman_pval}\")"
   ]
  },
  {
   "cell_type": "code",
   "execution_count": null,
   "id": "35",
   "metadata": {},
   "outputs": [],
   "source": [
    "import numpy as np\n",
    "from scipy.stats import bootstrap\n",
    "\n",
    "#data = np.array([GRAB_MM_1['movementX'], GRAB_MM_1['470_dfF']]).T\n",
    "#ci = bootstrap((data,), np.corrcoef, confidence_level=0.95, n_resamples=1000)\n",
    "#print(f\"95% Confidence Interval for Pearson correlation: {ci.confidence_interval}\")\n"
   ]
  },
  {
   "cell_type": "code",
   "execution_count": null,
   "id": "36",
   "metadata": {},
   "outputs": [],
   "source": []
  }
 ],
 "metadata": {
  "kernelspec": {
   "display_name": "aeon_env",
   "language": "python",
   "name": "aeon_env"
  },
  "language_info": {
   "codemirror_mode": {
    "name": "ipython",
    "version": 3
   },
   "file_extension": ".py",
   "mimetype": "text/x-python",
   "name": "python",
   "nbconvert_exporter": "python",
   "pygments_lexer": "ipython3",
   "version": "3.12.8"
  }
 },
 "nbformat": 4,
 "nbformat_minor": 5
}
